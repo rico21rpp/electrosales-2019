{
 "cells": [
  {
   "cell_type": "markdown",
   "metadata": {},
   "source": [
    "# Electronic Sales 2019 - An exploratory analysis on the electronic sales data in US"
   ]
  },
  {
   "cell_type": "markdown",
   "metadata": {},
   "source": [
    "This project is an exploratory analysis on the electronic sales of a US company in 2019. This analysis done for evaluating the sales performance in that year. So we can improve sales on 2020."
   ]
  },
  {
   "cell_type": "markdown",
   "metadata": {},
   "source": [
    "## Table of Contents\n",
    "1. Environment Setup\n",
    "2. Business Understanding\n",
    "3. Data Understanding\n",
    "4. Data Preparation\n",
    "5. Exploratory Data Analysis\n",
    "6. Conclusion"
   ]
  },
  {
   "cell_type": "markdown",
   "metadata": {},
   "source": [
    "## 1. Setup Environment"
   ]
  },
  {
   "cell_type": "markdown",
   "metadata": {},
   "source": [
    "#### Import necessary libraries"
   ]
  },
  {
   "cell_type": "code",
   "execution_count": 41,
   "metadata": {},
   "outputs": [],
   "source": [
    "import os\n",
    "import pandas as pd\n",
    "import seaborn as sns\n",
    "import matplotlib.pyplot as plt"
   ]
  },
  {
   "cell_type": "markdown",
   "metadata": {},
   "source": [
    "#### Merge data from each month into one CSV file"
   ]
  },
  {
   "cell_type": "code",
   "execution_count": 2,
   "metadata": {},
   "outputs": [],
   "source": [
    "path = \"./Sales_Data\"\n",
    "files = [file for file in os.listdir(path) if not file.startswith('.')] # Ignore hidden files\n",
    "\n",
    "all_months_data = pd.DataFrame()\n",
    "\n",
    "for file in files:\n",
    "    current_data = pd.read_csv(path + \"/\" + file)\n",
    "    all_months_data = pd.concat([all_months_data, current_data])\n",
    "    \n",
    "all_months_data.to_csv(\"sales_data_in_2019.csv\", index=False)"
   ]
  },
  {
   "cell_type": "markdown",
   "metadata": {},
   "source": [
    "## 2. Business Understanding\n",
    "In this project, we use sales data created in a whole year of 2019. Each row of the data represents an order. We can see the first column, \"Order ID\", as the identifier of each sales. We will analyze this dataset to answer 5 business questions.\n",
    "\n",
    "#### Business Questions\n",
    "1. What was the best month for sales? How much was earned that month?\n",
    "2. What city sold the most product?\n",
    "3. What time should we display advertisemens to maximize the likelihood of customer’s buying product?\n",
    "4. What products are most often sold together?\n",
    "5. What product sold the most? Why do you think it sold the most?"
   ]
  },
  {
   "cell_type": "markdown",
   "metadata": {},
   "source": [
    "## 3. Data Understanding\n",
    "This sales dataset consists of 6 variables/features.\n",
    "1. Order ID: id of each sales order\n",
    "2. Product: the product name\n",
    "3. Quantity Ordered: the quantity ordered\n",
    "4. Price Each: the price for each order\n",
    "5. Order Date: the date when the order was taken\n",
    "6. Purchase Order: the destination address of the order"
   ]
  },
  {
   "cell_type": "markdown",
   "metadata": {},
   "source": [
    "#### Read dataframe"
   ]
  },
  {
   "cell_type": "code",
   "execution_count": 3,
   "metadata": {},
   "outputs": [
    {
     "data": {
      "text/html": [
       "<div>\n",
       "<style scoped>\n",
       "    .dataframe tbody tr th:only-of-type {\n",
       "        vertical-align: middle;\n",
       "    }\n",
       "\n",
       "    .dataframe tbody tr th {\n",
       "        vertical-align: top;\n",
       "    }\n",
       "\n",
       "    .dataframe thead th {\n",
       "        text-align: right;\n",
       "    }\n",
       "</style>\n",
       "<table border=\"1\" class=\"dataframe\">\n",
       "  <thead>\n",
       "    <tr style=\"text-align: right;\">\n",
       "      <th></th>\n",
       "      <th>Order ID</th>\n",
       "      <th>Product</th>\n",
       "      <th>Quantity Ordered</th>\n",
       "      <th>Price Each</th>\n",
       "      <th>Order Date</th>\n",
       "      <th>Purchase Address</th>\n",
       "    </tr>\n",
       "  </thead>\n",
       "  <tbody>\n",
       "    <tr>\n",
       "      <th>0</th>\n",
       "      <td>176558</td>\n",
       "      <td>USB-C Charging Cable</td>\n",
       "      <td>2</td>\n",
       "      <td>11.95</td>\n",
       "      <td>04/19/19 08:46</td>\n",
       "      <td>917 1st St, Dallas, TX 75001</td>\n",
       "    </tr>\n",
       "    <tr>\n",
       "      <th>1</th>\n",
       "      <td>NaN</td>\n",
       "      <td>NaN</td>\n",
       "      <td>NaN</td>\n",
       "      <td>NaN</td>\n",
       "      <td>NaN</td>\n",
       "      <td>NaN</td>\n",
       "    </tr>\n",
       "    <tr>\n",
       "      <th>2</th>\n",
       "      <td>176559</td>\n",
       "      <td>Bose SoundSport Headphones</td>\n",
       "      <td>1</td>\n",
       "      <td>99.99</td>\n",
       "      <td>04/07/19 22:30</td>\n",
       "      <td>682 Chestnut St, Boston, MA 02215</td>\n",
       "    </tr>\n",
       "    <tr>\n",
       "      <th>3</th>\n",
       "      <td>176560</td>\n",
       "      <td>Google Phone</td>\n",
       "      <td>1</td>\n",
       "      <td>600</td>\n",
       "      <td>04/12/19 14:38</td>\n",
       "      <td>669 Spruce St, Los Angeles, CA 90001</td>\n",
       "    </tr>\n",
       "    <tr>\n",
       "      <th>4</th>\n",
       "      <td>176560</td>\n",
       "      <td>Wired Headphones</td>\n",
       "      <td>1</td>\n",
       "      <td>11.99</td>\n",
       "      <td>04/12/19 14:38</td>\n",
       "      <td>669 Spruce St, Los Angeles, CA 90001</td>\n",
       "    </tr>\n",
       "  </tbody>\n",
       "</table>\n",
       "</div>"
      ],
      "text/plain": [
       "  Order ID                     Product Quantity Ordered Price Each  \\\n",
       "0   176558        USB-C Charging Cable                2      11.95   \n",
       "1      NaN                         NaN              NaN        NaN   \n",
       "2   176559  Bose SoundSport Headphones                1      99.99   \n",
       "3   176560                Google Phone                1        600   \n",
       "4   176560            Wired Headphones                1      11.99   \n",
       "\n",
       "       Order Date                      Purchase Address  \n",
       "0  04/19/19 08:46          917 1st St, Dallas, TX 75001  \n",
       "1             NaN                                   NaN  \n",
       "2  04/07/19 22:30     682 Chestnut St, Boston, MA 02215  \n",
       "3  04/12/19 14:38  669 Spruce St, Los Angeles, CA 90001  \n",
       "4  04/12/19 14:38  669 Spruce St, Los Angeles, CA 90001  "
      ]
     },
     "execution_count": 3,
     "metadata": {},
     "output_type": "execute_result"
    }
   ],
   "source": [
    "df_ori = pd.read_csv(\"sales_data_in_2019.csv\")\n",
    "df = df_ori.copy()\n",
    "df.head()"
   ]
  },
  {
   "cell_type": "code",
   "execution_count": 4,
   "metadata": {},
   "outputs": [
    {
     "data": {
      "text/plain": [
       "array(['917 1st St, Dallas, TX 75001', nan,\n",
       "       '682 Chestnut St, Boston, MA 02215', ...,\n",
       "       '981 4th St, New York City, NY 10001',\n",
       "       '840 Highland St, Los Angeles, CA 90001',\n",
       "       '220 12th St, San Francisco, CA 94016'], dtype=object)"
      ]
     },
     "execution_count": 4,
     "metadata": {},
     "output_type": "execute_result"
    }
   ],
   "source": [
    "df['Purchase Address'].unique()"
   ]
  },
  {
   "cell_type": "markdown",
   "metadata": {},
   "source": [
    "#### Get familiar with the data"
   ]
  },
  {
   "cell_type": "code",
   "execution_count": 5,
   "metadata": {},
   "outputs": [
    {
     "name": "stdout",
     "output_type": "stream",
     "text": [
      "Num of rows: 186850\n",
      "Num of cols: 6\n"
     ]
    }
   ],
   "source": [
    "# data dimension\n",
    "print(\"Num of rows:\", df.shape[0])\n",
    "print(\"Num of cols:\", df.shape[1])"
   ]
  },
  {
   "cell_type": "code",
   "execution_count": 6,
   "metadata": {},
   "outputs": [
    {
     "name": "stdout",
     "output_type": "stream",
     "text": [
      "<class 'pandas.core.frame.DataFrame'>\n",
      "RangeIndex: 186850 entries, 0 to 186849\n",
      "Data columns (total 6 columns):\n",
      " #   Column            Non-Null Count   Dtype \n",
      "---  ------            --------------   ----- \n",
      " 0   Order ID          186305 non-null  object\n",
      " 1   Product           186305 non-null  object\n",
      " 2   Quantity Ordered  186305 non-null  object\n",
      " 3   Price Each        186305 non-null  object\n",
      " 4   Order Date        186305 non-null  object\n",
      " 5   Purchase Address  186305 non-null  object\n",
      "dtypes: object(6)\n",
      "memory usage: 4.3+ MB\n"
     ]
    }
   ],
   "source": [
    "# checking the types of data\n",
    "df.info()"
   ]
  },
  {
   "cell_type": "markdown",
   "metadata": {},
   "source": [
    "Setelah melihat contoh 5 baris data teratas dan informasi sederhana mengenai karakteristik data seperti yang ada di atas, dapat kita duga bahwa terdapat data yang tidak baik pada kolom 'Order ID', 'Quantity Ordered', dan 'Price Each'. **Dalam konteks dataset ini, ketiga kolom tersebut seharusnya mengandung data bertipe numerik, bukan objek/kategori**. Hal ini akan ditelusuri lebih dalam pada tahapan Data Preparation."
   ]
  },
  {
   "cell_type": "code",
   "execution_count": 7,
   "metadata": {},
   "outputs": [
    {
     "data": {
      "text/html": [
       "<div>\n",
       "<style scoped>\n",
       "    .dataframe tbody tr th:only-of-type {\n",
       "        vertical-align: middle;\n",
       "    }\n",
       "\n",
       "    .dataframe tbody tr th {\n",
       "        vertical-align: top;\n",
       "    }\n",
       "\n",
       "    .dataframe thead th {\n",
       "        text-align: right;\n",
       "    }\n",
       "</style>\n",
       "<table border=\"1\" class=\"dataframe\">\n",
       "  <thead>\n",
       "    <tr style=\"text-align: right;\">\n",
       "      <th></th>\n",
       "      <th>Order ID</th>\n",
       "      <th>Product</th>\n",
       "      <th>Quantity Ordered</th>\n",
       "      <th>Price Each</th>\n",
       "      <th>Order Date</th>\n",
       "      <th>Purchase Address</th>\n",
       "    </tr>\n",
       "  </thead>\n",
       "  <tbody>\n",
       "    <tr>\n",
       "      <th>count</th>\n",
       "      <td>186305</td>\n",
       "      <td>186305</td>\n",
       "      <td>186305</td>\n",
       "      <td>186305</td>\n",
       "      <td>186305</td>\n",
       "      <td>186305</td>\n",
       "    </tr>\n",
       "    <tr>\n",
       "      <th>unique</th>\n",
       "      <td>178438</td>\n",
       "      <td>20</td>\n",
       "      <td>10</td>\n",
       "      <td>24</td>\n",
       "      <td>142396</td>\n",
       "      <td>140788</td>\n",
       "    </tr>\n",
       "    <tr>\n",
       "      <th>top</th>\n",
       "      <td>Order ID</td>\n",
       "      <td>USB-C Charging Cable</td>\n",
       "      <td>1</td>\n",
       "      <td>11.95</td>\n",
       "      <td>Order Date</td>\n",
       "      <td>Purchase Address</td>\n",
       "    </tr>\n",
       "    <tr>\n",
       "      <th>freq</th>\n",
       "      <td>355</td>\n",
       "      <td>21903</td>\n",
       "      <td>168552</td>\n",
       "      <td>21903</td>\n",
       "      <td>355</td>\n",
       "      <td>355</td>\n",
       "    </tr>\n",
       "  </tbody>\n",
       "</table>\n",
       "</div>"
      ],
      "text/plain": [
       "        Order ID               Product Quantity Ordered Price Each  \\\n",
       "count     186305                186305           186305     186305   \n",
       "unique    178438                    20               10         24   \n",
       "top     Order ID  USB-C Charging Cable                1      11.95   \n",
       "freq         355                 21903           168552      21903   \n",
       "\n",
       "        Order Date  Purchase Address  \n",
       "count       186305            186305  \n",
       "unique      142396            140788  \n",
       "top     Order Date  Purchase Address  \n",
       "freq           355               355  "
      ]
     },
     "execution_count": 7,
     "metadata": {},
     "output_type": "execute_result"
    }
   ],
   "source": [
    "# basic descriptive statistics of the dataset\n",
    "df.describe()"
   ]
  },
  {
   "cell_type": "markdown",
   "metadata": {},
   "source": [
    "Selain mengetahui statistik deskriptif, kita juga menemukan informasi menarik pada tabel di atas, yaitu bahwa **'Order ID', 'Order Date', dan 'Purchase Address' menjadi data yang paling banyak muncul** di masing-masing kolomnya. Padahal ketiga kolom tersebut seharusnya tidak mengandung data seperti ketiga string tersebut.  "
   ]
  },
  {
   "cell_type": "markdown",
   "metadata": {},
   "source": [
    "## 4. Data Preparation\n",
    "Ada 5 hal yang dapat diolah sebelum melakukan analisis:\n",
    "1. Anomali \n",
    "2. Duplicated Entries\n",
    "3. Missing Value\n",
    "4. Data Types Re-formatting\n",
    "5. Get Month 'Order Date'\n",
    "6. Get City & State from 'Purchase Address'\n",
    "\n",
    "Todo for Extra EDA:\n",
    "1. Mendetailkan 'Product' sampai ke tingkat jenis produk (e.g. Headphone, Charging Cable, Phone, etc.)\n",
    "2. Mendetailkan 'Order Date' hingga ke nama hari dan jam"
   ]
  },
  {
   "cell_type": "markdown",
   "metadata": {},
   "source": [
    "### Task 1. Anomali\n",
    "Dari tahapan Data Understanding di atas kita menemukan 2 anomali:\n",
    "1. Kolom **'Order ID', 'Quantity Ordered', dan 'Price Each'** bertipe objek/kategori, seharusnya numerik.\n",
    "2. Kemunculan string **'Order ID', 'Order Date', dan 'Purchase Address'** sebagai data yang paling banyak muncul di masing-masing kolomnya. \n",
    "\n",
    "Oleh sebab itu, mari kita telusuri satu persatu."
   ]
  },
  {
   "cell_type": "markdown",
   "metadata": {},
   "source": [
    "#### 1.1. Tipe data kolom 'Order ID', 'Quantity Ordered', dan 'Price Each'"
   ]
  },
  {
   "cell_type": "code",
   "execution_count": 8,
   "metadata": {},
   "outputs": [
    {
     "data": {
      "text/plain": [
       "array(['176558', nan, '176559', ..., '259355', '259356', '259357'],\n",
       "      dtype=object)"
      ]
     },
     "execution_count": 8,
     "metadata": {},
     "output_type": "execute_result"
    }
   ],
   "source": [
    "# Mengecek seluruh data unik yang ada pada kolom 'Order ID'\n",
    "df['Order ID'].unique()"
   ]
  },
  {
   "cell_type": "markdown",
   "metadata": {},
   "source": [
    "Dari output di atas dapat kita ketahui bahwa:\n",
    "* Sebenarnya data pada kolom ini berupa angka tetapi **tersimpan dalam bentuk string**. \n",
    "* Kolom tersebut mengandung **nan** alias **missing value**.\n",
    "\n",
    "Oleh sebab itu, ada dua hal yang perlu dilakukan pada tahapan selanjutnya:\n",
    "1. Mengatasi **missing value** \n",
    "2. Memperbaiki **format data** pada kolom ini."
   ]
  },
  {
   "cell_type": "code",
   "execution_count": 9,
   "metadata": {},
   "outputs": [
    {
     "data": {
      "text/plain": [
       "array(['2', nan, '1', '3', '5', 'Quantity Ordered', '4', '7', '6', '8',\n",
       "       '9'], dtype=object)"
      ]
     },
     "execution_count": 9,
     "metadata": {},
     "output_type": "execute_result"
    }
   ],
   "source": [
    "# Mengecek seluruh data unik yang ada pada kolom 'Quantity Ordered'\n",
    "df['Quantity Ordered'].unique()"
   ]
  },
  {
   "cell_type": "code",
   "execution_count": 10,
   "metadata": {},
   "outputs": [
    {
     "data": {
      "text/html": [
       "<div>\n",
       "<style scoped>\n",
       "    .dataframe tbody tr th:only-of-type {\n",
       "        vertical-align: middle;\n",
       "    }\n",
       "\n",
       "    .dataframe tbody tr th {\n",
       "        vertical-align: top;\n",
       "    }\n",
       "\n",
       "    .dataframe thead th {\n",
       "        text-align: right;\n",
       "    }\n",
       "</style>\n",
       "<table border=\"1\" class=\"dataframe\">\n",
       "  <thead>\n",
       "    <tr style=\"text-align: right;\">\n",
       "      <th></th>\n",
       "      <th>Order ID</th>\n",
       "      <th>Product</th>\n",
       "      <th>Quantity Ordered</th>\n",
       "      <th>Price Each</th>\n",
       "      <th>Order Date</th>\n",
       "      <th>Purchase Address</th>\n",
       "    </tr>\n",
       "  </thead>\n",
       "  <tbody>\n",
       "    <tr>\n",
       "      <th>519</th>\n",
       "      <td>Order ID</td>\n",
       "      <td>Product</td>\n",
       "      <td>Quantity Ordered</td>\n",
       "      <td>Price Each</td>\n",
       "      <td>Order Date</td>\n",
       "      <td>Purchase Address</td>\n",
       "    </tr>\n",
       "    <tr>\n",
       "      <th>1149</th>\n",
       "      <td>Order ID</td>\n",
       "      <td>Product</td>\n",
       "      <td>Quantity Ordered</td>\n",
       "      <td>Price Each</td>\n",
       "      <td>Order Date</td>\n",
       "      <td>Purchase Address</td>\n",
       "    </tr>\n",
       "    <tr>\n",
       "      <th>1155</th>\n",
       "      <td>Order ID</td>\n",
       "      <td>Product</td>\n",
       "      <td>Quantity Ordered</td>\n",
       "      <td>Price Each</td>\n",
       "      <td>Order Date</td>\n",
       "      <td>Purchase Address</td>\n",
       "    </tr>\n",
       "    <tr>\n",
       "      <th>2878</th>\n",
       "      <td>Order ID</td>\n",
       "      <td>Product</td>\n",
       "      <td>Quantity Ordered</td>\n",
       "      <td>Price Each</td>\n",
       "      <td>Order Date</td>\n",
       "      <td>Purchase Address</td>\n",
       "    </tr>\n",
       "    <tr>\n",
       "      <th>2893</th>\n",
       "      <td>Order ID</td>\n",
       "      <td>Product</td>\n",
       "      <td>Quantity Ordered</td>\n",
       "      <td>Price Each</td>\n",
       "      <td>Order Date</td>\n",
       "      <td>Purchase Address</td>\n",
       "    </tr>\n",
       "    <tr>\n",
       "      <th>...</th>\n",
       "      <td>...</td>\n",
       "      <td>...</td>\n",
       "      <td>...</td>\n",
       "      <td>...</td>\n",
       "      <td>...</td>\n",
       "      <td>...</td>\n",
       "    </tr>\n",
       "    <tr>\n",
       "      <th>185164</th>\n",
       "      <td>Order ID</td>\n",
       "      <td>Product</td>\n",
       "      <td>Quantity Ordered</td>\n",
       "      <td>Price Each</td>\n",
       "      <td>Order Date</td>\n",
       "      <td>Purchase Address</td>\n",
       "    </tr>\n",
       "    <tr>\n",
       "      <th>185551</th>\n",
       "      <td>Order ID</td>\n",
       "      <td>Product</td>\n",
       "      <td>Quantity Ordered</td>\n",
       "      <td>Price Each</td>\n",
       "      <td>Order Date</td>\n",
       "      <td>Purchase Address</td>\n",
       "    </tr>\n",
       "    <tr>\n",
       "      <th>186563</th>\n",
       "      <td>Order ID</td>\n",
       "      <td>Product</td>\n",
       "      <td>Quantity Ordered</td>\n",
       "      <td>Price Each</td>\n",
       "      <td>Order Date</td>\n",
       "      <td>Purchase Address</td>\n",
       "    </tr>\n",
       "    <tr>\n",
       "      <th>186632</th>\n",
       "      <td>Order ID</td>\n",
       "      <td>Product</td>\n",
       "      <td>Quantity Ordered</td>\n",
       "      <td>Price Each</td>\n",
       "      <td>Order Date</td>\n",
       "      <td>Purchase Address</td>\n",
       "    </tr>\n",
       "    <tr>\n",
       "      <th>186738</th>\n",
       "      <td>Order ID</td>\n",
       "      <td>Product</td>\n",
       "      <td>Quantity Ordered</td>\n",
       "      <td>Price Each</td>\n",
       "      <td>Order Date</td>\n",
       "      <td>Purchase Address</td>\n",
       "    </tr>\n",
       "  </tbody>\n",
       "</table>\n",
       "<p>355 rows × 6 columns</p>\n",
       "</div>"
      ],
      "text/plain": [
       "        Order ID  Product  Quantity Ordered  Price Each  Order Date  \\\n",
       "519     Order ID  Product  Quantity Ordered  Price Each  Order Date   \n",
       "1149    Order ID  Product  Quantity Ordered  Price Each  Order Date   \n",
       "1155    Order ID  Product  Quantity Ordered  Price Each  Order Date   \n",
       "2878    Order ID  Product  Quantity Ordered  Price Each  Order Date   \n",
       "2893    Order ID  Product  Quantity Ordered  Price Each  Order Date   \n",
       "...          ...      ...               ...         ...         ...   \n",
       "185164  Order ID  Product  Quantity Ordered  Price Each  Order Date   \n",
       "185551  Order ID  Product  Quantity Ordered  Price Each  Order Date   \n",
       "186563  Order ID  Product  Quantity Ordered  Price Each  Order Date   \n",
       "186632  Order ID  Product  Quantity Ordered  Price Each  Order Date   \n",
       "186738  Order ID  Product  Quantity Ordered  Price Each  Order Date   \n",
       "\n",
       "        Purchase Address  \n",
       "519     Purchase Address  \n",
       "1149    Purchase Address  \n",
       "1155    Purchase Address  \n",
       "2878    Purchase Address  \n",
       "2893    Purchase Address  \n",
       "...                  ...  \n",
       "185164  Purchase Address  \n",
       "185551  Purchase Address  \n",
       "186563  Purchase Address  \n",
       "186632  Purchase Address  \n",
       "186738  Purchase Address  \n",
       "\n",
       "[355 rows x 6 columns]"
      ]
     },
     "execution_count": 10,
     "metadata": {},
     "output_type": "execute_result"
    }
   ],
   "source": [
    "df[df['Quantity Ordered'] == 'Quantity Ordered']"
   ]
  },
  {
   "cell_type": "markdown",
   "metadata": {},
   "source": [
    "Dari output dua script di atas dapat kita ketahui bahwa:\n",
    "* Sebenarnya data pada kolom ini berupa angka tetapi **tersimpan dalam bentuk string**. \n",
    "* Kolom tersebut mengandung **nan** alias **missing value**\n",
    "* Dataset (df) mengandung cukup banyak entry yang sama (duplikat) dan value untuk setiap kolom adalah nama dari setiap kolom tersebut\n",
    "\n",
    "Oleh sebab itu, ada 3 hal yang perlu dilakukan pada tahapan selanjutnya:\n",
    "1. Mengatasi **missing value**\n",
    "2. Menghapus entry yang mengandung value berupa **nama dari kolomnya**\n",
    "3. Menghapus duplicated entries jika masih diperlukan\n",
    "4. Memperbaiki **format data** pada kolom ini."
   ]
  },
  {
   "cell_type": "code",
   "execution_count": 11,
   "metadata": {},
   "outputs": [],
   "source": [
    "# drop entries containing values 'Quantity Ordered' on that columns\n",
    "df.drop(df[df['Quantity Ordered'] == 'Quantity Ordered'].index, inplace=True)"
   ]
  },
  {
   "cell_type": "code",
   "execution_count": 12,
   "metadata": {},
   "outputs": [
    {
     "data": {
      "text/plain": [
       "array(['2', nan, '1', '3', '5', '4', '7', '6', '8', '9'], dtype=object)"
      ]
     },
     "execution_count": 12,
     "metadata": {},
     "output_type": "execute_result"
    }
   ],
   "source": [
    "df['Quantity Ordered'].unique()"
   ]
  },
  {
   "cell_type": "markdown",
   "metadata": {},
   "source": [
    "Berdasarkan output di atas maka entry yang mengandung value 'Quantity Ordered' pada kolomnya sudah tidak ada. Dari 4 hal yang perlu dilakukan, hanya tinggal tersisa poin 1, 3, dan 4."
   ]
  },
  {
   "cell_type": "code",
   "execution_count": 13,
   "metadata": {},
   "outputs": [
    {
     "data": {
      "text/plain": [
       "array(['11.95', nan, '99.99', '600', '11.99', '1700', '14.95', '389.99',\n",
       "       '3.84', '150', '2.99', '700', '300', '149.99', '109.99', '600.0',\n",
       "       '999.99', '400', '379.99', '700.0', '1700.0', '150.0', '300.0',\n",
       "       '400.0'], dtype=object)"
      ]
     },
     "execution_count": 13,
     "metadata": {},
     "output_type": "execute_result"
    }
   ],
   "source": [
    "# Mengecek seluruh data unik yang ada pada kolom 'Price Each'\n",
    "df['Price Each'].unique()"
   ]
  },
  {
   "cell_type": "markdown",
   "metadata": {},
   "source": [
    "Dari output di atas dapat kita ketahui bahwa:\n",
    "* Sebenarnya data pada kolom ini berupa angka tetapi **tersimpan dalam bentuk string**. \n",
    "* Kolom tersebut mengandung **nan** alias **missing value**\n",
    "\n",
    "Oleh sebab itu, ada 3 hal yang perlu dilakukan pada tahapan selanjutnya:\n",
    "1. Mengatasi **missing value**\n",
    "2. Memperbaiki **format data** pada kolom ini."
   ]
  },
  {
   "cell_type": "markdown",
   "metadata": {},
   "source": [
    "#### 1.2. Kemunculan string 'Order ID', 'Order Date', dan 'Purchase Address'"
   ]
  },
  {
   "cell_type": "code",
   "execution_count": 14,
   "metadata": {},
   "outputs": [
    {
     "data": {
      "text/html": [
       "<div>\n",
       "<style scoped>\n",
       "    .dataframe tbody tr th:only-of-type {\n",
       "        vertical-align: middle;\n",
       "    }\n",
       "\n",
       "    .dataframe tbody tr th {\n",
       "        vertical-align: top;\n",
       "    }\n",
       "\n",
       "    .dataframe thead th {\n",
       "        text-align: right;\n",
       "    }\n",
       "</style>\n",
       "<table border=\"1\" class=\"dataframe\">\n",
       "  <thead>\n",
       "    <tr style=\"text-align: right;\">\n",
       "      <th></th>\n",
       "      <th>Order ID</th>\n",
       "      <th>Product</th>\n",
       "      <th>Quantity Ordered</th>\n",
       "      <th>Price Each</th>\n",
       "      <th>Order Date</th>\n",
       "      <th>Purchase Address</th>\n",
       "    </tr>\n",
       "  </thead>\n",
       "  <tbody>\n",
       "  </tbody>\n",
       "</table>\n",
       "</div>"
      ],
      "text/plain": [
       "Empty DataFrame\n",
       "Columns: [Order ID, Product, Quantity Ordered, Price Each, Order Date, Purchase Address]\n",
       "Index: []"
      ]
     },
     "execution_count": 14,
     "metadata": {},
     "output_type": "execute_result"
    }
   ],
   "source": [
    "# Mengecek seluruh entry yang mengandung string 'Order ID' pada kolom tersebut\n",
    "df[df['Order ID'] == 'Order ID']"
   ]
  },
  {
   "cell_type": "code",
   "execution_count": 15,
   "metadata": {},
   "outputs": [
    {
     "data": {
      "text/html": [
       "<div>\n",
       "<style scoped>\n",
       "    .dataframe tbody tr th:only-of-type {\n",
       "        vertical-align: middle;\n",
       "    }\n",
       "\n",
       "    .dataframe tbody tr th {\n",
       "        vertical-align: top;\n",
       "    }\n",
       "\n",
       "    .dataframe thead th {\n",
       "        text-align: right;\n",
       "    }\n",
       "</style>\n",
       "<table border=\"1\" class=\"dataframe\">\n",
       "  <thead>\n",
       "    <tr style=\"text-align: right;\">\n",
       "      <th></th>\n",
       "      <th>Order ID</th>\n",
       "      <th>Product</th>\n",
       "      <th>Quantity Ordered</th>\n",
       "      <th>Price Each</th>\n",
       "      <th>Order Date</th>\n",
       "      <th>Purchase Address</th>\n",
       "    </tr>\n",
       "  </thead>\n",
       "  <tbody>\n",
       "  </tbody>\n",
       "</table>\n",
       "</div>"
      ],
      "text/plain": [
       "Empty DataFrame\n",
       "Columns: [Order ID, Product, Quantity Ordered, Price Each, Order Date, Purchase Address]\n",
       "Index: []"
      ]
     },
     "execution_count": 15,
     "metadata": {},
     "output_type": "execute_result"
    }
   ],
   "source": [
    "# Mengecek seluruh entry yang mengandung string 'Order Date' pada kolom tersebut\n",
    "df[df['Order Date'] == 'Order Date']"
   ]
  },
  {
   "cell_type": "code",
   "execution_count": 16,
   "metadata": {},
   "outputs": [
    {
     "data": {
      "text/html": [
       "<div>\n",
       "<style scoped>\n",
       "    .dataframe tbody tr th:only-of-type {\n",
       "        vertical-align: middle;\n",
       "    }\n",
       "\n",
       "    .dataframe tbody tr th {\n",
       "        vertical-align: top;\n",
       "    }\n",
       "\n",
       "    .dataframe thead th {\n",
       "        text-align: right;\n",
       "    }\n",
       "</style>\n",
       "<table border=\"1\" class=\"dataframe\">\n",
       "  <thead>\n",
       "    <tr style=\"text-align: right;\">\n",
       "      <th></th>\n",
       "      <th>Order ID</th>\n",
       "      <th>Product</th>\n",
       "      <th>Quantity Ordered</th>\n",
       "      <th>Price Each</th>\n",
       "      <th>Order Date</th>\n",
       "      <th>Purchase Address</th>\n",
       "    </tr>\n",
       "  </thead>\n",
       "  <tbody>\n",
       "  </tbody>\n",
       "</table>\n",
       "</div>"
      ],
      "text/plain": [
       "Empty DataFrame\n",
       "Columns: [Order ID, Product, Quantity Ordered, Price Each, Order Date, Purchase Address]\n",
       "Index: []"
      ]
     },
     "execution_count": 16,
     "metadata": {},
     "output_type": "execute_result"
    }
   ],
   "source": [
    "# Mengecek seluruh entry yang mengandung string 'Purchase Address' pada kolom tersebut\n",
    "df[df['Purchase Address'] == 'Purchase Address']"
   ]
  },
  {
   "cell_type": "markdown",
   "metadata": {},
   "source": [
    "Dari output di atas dapat kita ketahui bahwa dataframe df sudah tidak mengandung entry yang memiliki value 'Order ID', 'Order Date', dan 'Purchase Address' pada masing-masing kolomnya."
   ]
  },
  {
   "cell_type": "markdown",
   "metadata": {},
   "source": [
    "##### Kesimpulan\n",
    "Berdasarkan penelusuran anomali yang ada, maka terdapat 3 hal yang perlu dilakukan pada tahapan selanjutnya, yaitu:\n",
    "1. Mengatasi duplicated entries\n",
    "2. Mengatasi missing value\n",
    "3. Memperbaiki format data"
   ]
  },
  {
   "cell_type": "markdown",
   "metadata": {},
   "source": [
    "### Task 2. Dealing with Duplicated Entries"
   ]
  },
  {
   "cell_type": "code",
   "execution_count": 17,
   "metadata": {},
   "outputs": [
    {
     "data": {
      "text/html": [
       "<div>\n",
       "<style scoped>\n",
       "    .dataframe tbody tr th:only-of-type {\n",
       "        vertical-align: middle;\n",
       "    }\n",
       "\n",
       "    .dataframe tbody tr th {\n",
       "        vertical-align: top;\n",
       "    }\n",
       "\n",
       "    .dataframe thead th {\n",
       "        text-align: right;\n",
       "    }\n",
       "</style>\n",
       "<table border=\"1\" class=\"dataframe\">\n",
       "  <thead>\n",
       "    <tr style=\"text-align: right;\">\n",
       "      <th></th>\n",
       "      <th>Order ID</th>\n",
       "      <th>Product</th>\n",
       "      <th>Quantity Ordered</th>\n",
       "      <th>Price Each</th>\n",
       "      <th>Order Date</th>\n",
       "      <th>Purchase Address</th>\n",
       "    </tr>\n",
       "  </thead>\n",
       "  <tbody>\n",
       "    <tr>\n",
       "      <th>31</th>\n",
       "      <td>176585</td>\n",
       "      <td>Bose SoundSport Headphones</td>\n",
       "      <td>1</td>\n",
       "      <td>99.99</td>\n",
       "      <td>04/07/19 11:31</td>\n",
       "      <td>823 Highland St, Boston, MA 02215</td>\n",
       "    </tr>\n",
       "    <tr>\n",
       "      <th>356</th>\n",
       "      <td>NaN</td>\n",
       "      <td>NaN</td>\n",
       "      <td>NaN</td>\n",
       "      <td>NaN</td>\n",
       "      <td>NaN</td>\n",
       "      <td>NaN</td>\n",
       "    </tr>\n",
       "    <tr>\n",
       "      <th>735</th>\n",
       "      <td>NaN</td>\n",
       "      <td>NaN</td>\n",
       "      <td>NaN</td>\n",
       "      <td>NaN</td>\n",
       "      <td>NaN</td>\n",
       "      <td>NaN</td>\n",
       "    </tr>\n",
       "    <tr>\n",
       "      <th>1302</th>\n",
       "      <td>177795</td>\n",
       "      <td>Apple Airpods Headphones</td>\n",
       "      <td>1</td>\n",
       "      <td>150</td>\n",
       "      <td>04/27/19 19:45</td>\n",
       "      <td>740 14th St, Seattle, WA 98101</td>\n",
       "    </tr>\n",
       "    <tr>\n",
       "      <th>1433</th>\n",
       "      <td>NaN</td>\n",
       "      <td>NaN</td>\n",
       "      <td>NaN</td>\n",
       "      <td>NaN</td>\n",
       "      <td>NaN</td>\n",
       "      <td>NaN</td>\n",
       "    </tr>\n",
       "    <tr>\n",
       "      <th>...</th>\n",
       "      <td>...</td>\n",
       "      <td>...</td>\n",
       "      <td>...</td>\n",
       "      <td>...</td>\n",
       "      <td>...</td>\n",
       "      <td>...</td>\n",
       "    </tr>\n",
       "    <tr>\n",
       "      <th>186508</th>\n",
       "      <td>259035</td>\n",
       "      <td>27in FHD Monitor</td>\n",
       "      <td>1</td>\n",
       "      <td>149.99</td>\n",
       "      <td>09/29/19 13:52</td>\n",
       "      <td>327 Lake St, San Francisco, CA 94016</td>\n",
       "    </tr>\n",
       "    <tr>\n",
       "      <th>186548</th>\n",
       "      <td>NaN</td>\n",
       "      <td>NaN</td>\n",
       "      <td>NaN</td>\n",
       "      <td>NaN</td>\n",
       "      <td>NaN</td>\n",
       "      <td>NaN</td>\n",
       "    </tr>\n",
       "    <tr>\n",
       "      <th>186782</th>\n",
       "      <td>259296</td>\n",
       "      <td>Apple Airpods Headphones</td>\n",
       "      <td>1</td>\n",
       "      <td>150</td>\n",
       "      <td>09/28/19 16:48</td>\n",
       "      <td>894 6th St, Dallas, TX 75001</td>\n",
       "    </tr>\n",
       "    <tr>\n",
       "      <th>186785</th>\n",
       "      <td>259297</td>\n",
       "      <td>Lightning Charging Cable</td>\n",
       "      <td>1</td>\n",
       "      <td>14.95</td>\n",
       "      <td>09/15/19 18:54</td>\n",
       "      <td>138 Main St, Boston, MA 02215</td>\n",
       "    </tr>\n",
       "    <tr>\n",
       "      <th>186826</th>\n",
       "      <td>NaN</td>\n",
       "      <td>NaN</td>\n",
       "      <td>NaN</td>\n",
       "      <td>NaN</td>\n",
       "      <td>NaN</td>\n",
       "      <td>NaN</td>\n",
       "    </tr>\n",
       "  </tbody>\n",
       "</table>\n",
       "<p>808 rows × 6 columns</p>\n",
       "</div>"
      ],
      "text/plain": [
       "       Order ID                     Product Quantity Ordered Price Each  \\\n",
       "31       176585  Bose SoundSport Headphones                1      99.99   \n",
       "356         NaN                         NaN              NaN        NaN   \n",
       "735         NaN                         NaN              NaN        NaN   \n",
       "1302     177795    Apple Airpods Headphones                1        150   \n",
       "1433        NaN                         NaN              NaN        NaN   \n",
       "...         ...                         ...              ...        ...   \n",
       "186508   259035            27in FHD Monitor                1     149.99   \n",
       "186548      NaN                         NaN              NaN        NaN   \n",
       "186782   259296    Apple Airpods Headphones                1        150   \n",
       "186785   259297    Lightning Charging Cable                1      14.95   \n",
       "186826      NaN                         NaN              NaN        NaN   \n",
       "\n",
       "            Order Date                      Purchase Address  \n",
       "31      04/07/19 11:31     823 Highland St, Boston, MA 02215  \n",
       "356                NaN                                   NaN  \n",
       "735                NaN                                   NaN  \n",
       "1302    04/27/19 19:45        740 14th St, Seattle, WA 98101  \n",
       "1433               NaN                                   NaN  \n",
       "...                ...                                   ...  \n",
       "186508  09/29/19 13:52  327 Lake St, San Francisco, CA 94016  \n",
       "186548             NaN                                   NaN  \n",
       "186782  09/28/19 16:48          894 6th St, Dallas, TX 75001  \n",
       "186785  09/15/19 18:54         138 Main St, Boston, MA 02215  \n",
       "186826             NaN                                   NaN  \n",
       "\n",
       "[808 rows x 6 columns]"
      ]
     },
     "execution_count": 17,
     "metadata": {},
     "output_type": "execute_result"
    }
   ],
   "source": [
    "# check any duplicates row in dataframe\n",
    "df[df.duplicated()]"
   ]
  },
  {
   "cell_type": "code",
   "execution_count": 18,
   "metadata": {},
   "outputs": [
    {
     "name": "stdout",
     "output_type": "stream",
     "text": [
      "total duplicated entries: 265\n"
     ]
    }
   ],
   "source": [
    "# get total number of real entries yang terduplikat\n",
    "print('total duplicated entries:', len(df[df.duplicated()]['Order ID'].unique()))"
   ]
  },
  {
   "cell_type": "markdown",
   "metadata": {},
   "source": [
    "Berdasarkan output di atas dapat kita ketahui bahwa dataframe ini memiliki 265 entry yang terduplikat sehingga totalnya menjadi 808 entries. Oleh sebab itu kita perlu menghapus entry lain yang muncul akibat dari duplikasi tersebut.\n",
    "\n",
    "Drop all duplicates entries\n",
    "https://pandas.pydata.org/pandas-docs/version/0.17.1/generated/pandas.DataFrame.drop_duplicates.html"
   ]
  },
  {
   "cell_type": "code",
   "execution_count": 19,
   "metadata": {},
   "outputs": [
    {
     "data": {
      "text/html": [
       "<div>\n",
       "<style scoped>\n",
       "    .dataframe tbody tr th:only-of-type {\n",
       "        vertical-align: middle;\n",
       "    }\n",
       "\n",
       "    .dataframe tbody tr th {\n",
       "        vertical-align: top;\n",
       "    }\n",
       "\n",
       "    .dataframe thead th {\n",
       "        text-align: right;\n",
       "    }\n",
       "</style>\n",
       "<table border=\"1\" class=\"dataframe\">\n",
       "  <thead>\n",
       "    <tr style=\"text-align: right;\">\n",
       "      <th></th>\n",
       "      <th>Order ID</th>\n",
       "      <th>Product</th>\n",
       "      <th>Quantity Ordered</th>\n",
       "      <th>Price Each</th>\n",
       "      <th>Order Date</th>\n",
       "      <th>Purchase Address</th>\n",
       "    </tr>\n",
       "  </thead>\n",
       "  <tbody>\n",
       "  </tbody>\n",
       "</table>\n",
       "</div>"
      ],
      "text/plain": [
       "Empty DataFrame\n",
       "Columns: [Order ID, Product, Quantity Ordered, Price Each, Order Date, Purchase Address]\n",
       "Index: []"
      ]
     },
     "execution_count": 19,
     "metadata": {},
     "output_type": "execute_result"
    }
   ],
   "source": [
    "# drop duplicated entries and keep the first occurence of each item\n",
    "df.drop_duplicates(inplace=True)\n",
    "df[df.duplicated()]"
   ]
  },
  {
   "cell_type": "markdown",
   "metadata": {},
   "source": [
    "Berdasarkan output di atas, dapat kita ketahui bahwa entry yang terduplikasi sudah terhapus."
   ]
  },
  {
   "cell_type": "markdown",
   "metadata": {},
   "source": [
    "### Task 3. Dealing with Missing Value"
   ]
  },
  {
   "cell_type": "code",
   "execution_count": 20,
   "metadata": {},
   "outputs": [
    {
     "data": {
      "text/plain": [
       "True"
      ]
     },
     "execution_count": 20,
     "metadata": {},
     "output_type": "execute_result"
    }
   ],
   "source": [
    "# check if dataframe has any missing (NaN) values\n",
    "df.isnull().values.any()"
   ]
  },
  {
   "cell_type": "code",
   "execution_count": 21,
   "metadata": {},
   "outputs": [
    {
     "data": {
      "text/plain": [
       "Order ID            1\n",
       "Product             1\n",
       "Quantity Ordered    1\n",
       "Price Each          1\n",
       "Order Date          1\n",
       "Purchase Address    1\n",
       "dtype: int64"
      ]
     },
     "execution_count": 21,
     "metadata": {},
     "output_type": "execute_result"
    }
   ],
   "source": [
    "# get the total missing values in each columns\n",
    "df.isna().sum()"
   ]
  },
  {
   "cell_type": "markdown",
   "metadata": {},
   "source": [
    "From last two lines above, we know that there is only one NaN values for each column and they are placed in a same row. So, we can conclude that **there is only one row with NaN values** in the entire columns. There is no other NaN values. Oleh sebab itu, hal yang dapat kita lakukan dalam mengatasi missing value dalam dataframe ini adalah **menghapus entry/baris** yang mengandung missing value tersebut."
   ]
  },
  {
   "cell_type": "code",
   "execution_count": 22,
   "metadata": {},
   "outputs": [
    {
     "data": {
      "text/plain": [
       "Order ID            0\n",
       "Product             0\n",
       "Quantity Ordered    0\n",
       "Price Each          0\n",
       "Order Date          0\n",
       "Purchase Address    0\n",
       "dtype: int64"
      ]
     },
     "execution_count": 22,
     "metadata": {},
     "output_type": "execute_result"
    }
   ],
   "source": [
    "# remove row with NaN values in the entire columns\n",
    "df.dropna(how='all', inplace=True)\n",
    "\n",
    "# check NaN values again\n",
    "df.isna().sum()"
   ]
  },
  {
   "cell_type": "markdown",
   "metadata": {},
   "source": [
    "### Task 4. Data Types Re-formatting\n",
    "Pada tahapan ini kita akan memperbaiki format tipe data untuk kolom Order ID, Quantity Ordered, dan Price Each."
   ]
  },
  {
   "cell_type": "code",
   "execution_count": 23,
   "metadata": {},
   "outputs": [
    {
     "data": {
      "text/html": [
       "<div>\n",
       "<style scoped>\n",
       "    .dataframe tbody tr th:only-of-type {\n",
       "        vertical-align: middle;\n",
       "    }\n",
       "\n",
       "    .dataframe tbody tr th {\n",
       "        vertical-align: top;\n",
       "    }\n",
       "\n",
       "    .dataframe thead th {\n",
       "        text-align: right;\n",
       "    }\n",
       "</style>\n",
       "<table border=\"1\" class=\"dataframe\">\n",
       "  <thead>\n",
       "    <tr style=\"text-align: right;\">\n",
       "      <th></th>\n",
       "      <th>Order ID</th>\n",
       "      <th>Product</th>\n",
       "      <th>Quantity Ordered</th>\n",
       "      <th>Price Each</th>\n",
       "      <th>Order Date</th>\n",
       "      <th>Purchase Address</th>\n",
       "    </tr>\n",
       "  </thead>\n",
       "  <tbody>\n",
       "    <tr>\n",
       "      <th>0</th>\n",
       "      <td>176558</td>\n",
       "      <td>USB-C Charging Cable</td>\n",
       "      <td>2</td>\n",
       "      <td>11.95</td>\n",
       "      <td>04/19/19 08:46</td>\n",
       "      <td>917 1st St, Dallas, TX 75001</td>\n",
       "    </tr>\n",
       "    <tr>\n",
       "      <th>2</th>\n",
       "      <td>176559</td>\n",
       "      <td>Bose SoundSport Headphones</td>\n",
       "      <td>1</td>\n",
       "      <td>99.99</td>\n",
       "      <td>04/07/19 22:30</td>\n",
       "      <td>682 Chestnut St, Boston, MA 02215</td>\n",
       "    </tr>\n",
       "    <tr>\n",
       "      <th>3</th>\n",
       "      <td>176560</td>\n",
       "      <td>Google Phone</td>\n",
       "      <td>1</td>\n",
       "      <td>600</td>\n",
       "      <td>04/12/19 14:38</td>\n",
       "      <td>669 Spruce St, Los Angeles, CA 90001</td>\n",
       "    </tr>\n",
       "    <tr>\n",
       "      <th>4</th>\n",
       "      <td>176560</td>\n",
       "      <td>Wired Headphones</td>\n",
       "      <td>1</td>\n",
       "      <td>11.99</td>\n",
       "      <td>04/12/19 14:38</td>\n",
       "      <td>669 Spruce St, Los Angeles, CA 90001</td>\n",
       "    </tr>\n",
       "    <tr>\n",
       "      <th>5</th>\n",
       "      <td>176561</td>\n",
       "      <td>Wired Headphones</td>\n",
       "      <td>1</td>\n",
       "      <td>11.99</td>\n",
       "      <td>04/30/19 09:27</td>\n",
       "      <td>333 8th St, Los Angeles, CA 90001</td>\n",
       "    </tr>\n",
       "  </tbody>\n",
       "</table>\n",
       "</div>"
      ],
      "text/plain": [
       "  Order ID                     Product Quantity Ordered Price Each  \\\n",
       "0   176558        USB-C Charging Cable                2      11.95   \n",
       "2   176559  Bose SoundSport Headphones                1      99.99   \n",
       "3   176560                Google Phone                1        600   \n",
       "4   176560            Wired Headphones                1      11.99   \n",
       "5   176561            Wired Headphones                1      11.99   \n",
       "\n",
       "       Order Date                      Purchase Address  \n",
       "0  04/19/19 08:46          917 1st St, Dallas, TX 75001  \n",
       "2  04/07/19 22:30     682 Chestnut St, Boston, MA 02215  \n",
       "3  04/12/19 14:38  669 Spruce St, Los Angeles, CA 90001  \n",
       "4  04/12/19 14:38  669 Spruce St, Los Angeles, CA 90001  \n",
       "5  04/30/19 09:27     333 8th St, Los Angeles, CA 90001  "
      ]
     },
     "execution_count": 23,
     "metadata": {},
     "output_type": "execute_result"
    }
   ],
   "source": [
    "df.head()"
   ]
  },
  {
   "cell_type": "code",
   "execution_count": 24,
   "metadata": {},
   "outputs": [
    {
     "name": "stdout",
     "output_type": "stream",
     "text": [
      "<class 'pandas.core.frame.DataFrame'>\n",
      "Int64Index: 185686 entries, 0 to 186849\n",
      "Data columns (total 6 columns):\n",
      " #   Column            Non-Null Count   Dtype \n",
      "---  ------            --------------   ----- \n",
      " 0   Order ID          185686 non-null  object\n",
      " 1   Product           185686 non-null  object\n",
      " 2   Quantity Ordered  185686 non-null  object\n",
      " 3   Price Each        185686 non-null  object\n",
      " 4   Order Date        185686 non-null  object\n",
      " 5   Purchase Address  185686 non-null  object\n",
      "dtypes: object(6)\n",
      "memory usage: 5.7+ MB\n"
     ]
    }
   ],
   "source": [
    "df.info()"
   ]
  },
  {
   "cell_type": "code",
   "execution_count": 25,
   "metadata": {},
   "outputs": [],
   "source": [
    "# set the data type to numeric\n",
    "df['Order ID'] = df['Order ID'].astype('int64')\n",
    "df['Quantity Ordered'] = df['Quantity Ordered'].astype('int64')\n",
    "df['Price Each'] = df['Price Each'].astype('float64')"
   ]
  },
  {
   "cell_type": "code",
   "execution_count": 26,
   "metadata": {},
   "outputs": [
    {
     "name": "stdout",
     "output_type": "stream",
     "text": [
      "<class 'pandas.core.frame.DataFrame'>\n",
      "Int64Index: 185686 entries, 0 to 186849\n",
      "Data columns (total 6 columns):\n",
      " #   Column            Non-Null Count   Dtype  \n",
      "---  ------            --------------   -----  \n",
      " 0   Order ID          185686 non-null  int64  \n",
      " 1   Product           185686 non-null  object \n",
      " 2   Quantity Ordered  185686 non-null  int64  \n",
      " 3   Price Each        185686 non-null  float64\n",
      " 4   Order Date        185686 non-null  object \n",
      " 5   Purchase Address  185686 non-null  object \n",
      "dtypes: float64(1), int64(2), object(3)\n",
      "memory usage: 7.8+ MB\n"
     ]
    }
   ],
   "source": [
    "df.info()"
   ]
  },
  {
   "cell_type": "markdown",
   "metadata": {},
   "source": [
    "Dari output diatas dapat kita pastikan bahwa tipe data untuk kolom 'Order ID', 'Quantity Ordered', dan 'Price Each' telah berubah menjadi numerik."
   ]
  },
  {
   "cell_type": "code",
   "execution_count": 27,
   "metadata": {},
   "outputs": [
    {
     "data": {
      "text/html": [
       "<div>\n",
       "<style scoped>\n",
       "    .dataframe tbody tr th:only-of-type {\n",
       "        vertical-align: middle;\n",
       "    }\n",
       "\n",
       "    .dataframe tbody tr th {\n",
       "        vertical-align: top;\n",
       "    }\n",
       "\n",
       "    .dataframe thead th {\n",
       "        text-align: right;\n",
       "    }\n",
       "</style>\n",
       "<table border=\"1\" class=\"dataframe\">\n",
       "  <thead>\n",
       "    <tr style=\"text-align: right;\">\n",
       "      <th></th>\n",
       "      <th>Order ID</th>\n",
       "      <th>Quantity Ordered</th>\n",
       "      <th>Price Each</th>\n",
       "    </tr>\n",
       "  </thead>\n",
       "  <tbody>\n",
       "    <tr>\n",
       "      <th>count</th>\n",
       "      <td>185686.000000</td>\n",
       "      <td>185686.000000</td>\n",
       "      <td>185686.000000</td>\n",
       "    </tr>\n",
       "    <tr>\n",
       "      <th>mean</th>\n",
       "      <td>230411.376227</td>\n",
       "      <td>1.124544</td>\n",
       "      <td>184.519255</td>\n",
       "    </tr>\n",
       "    <tr>\n",
       "      <th>std</th>\n",
       "      <td>51511.717183</td>\n",
       "      <td>0.443069</td>\n",
       "      <td>332.843838</td>\n",
       "    </tr>\n",
       "    <tr>\n",
       "      <th>min</th>\n",
       "      <td>141234.000000</td>\n",
       "      <td>1.000000</td>\n",
       "      <td>2.990000</td>\n",
       "    </tr>\n",
       "    <tr>\n",
       "      <th>25%</th>\n",
       "      <td>185833.250000</td>\n",
       "      <td>1.000000</td>\n",
       "      <td>11.950000</td>\n",
       "    </tr>\n",
       "    <tr>\n",
       "      <th>50%</th>\n",
       "      <td>230354.500000</td>\n",
       "      <td>1.000000</td>\n",
       "      <td>14.950000</td>\n",
       "    </tr>\n",
       "    <tr>\n",
       "      <th>75%</th>\n",
       "      <td>275028.750000</td>\n",
       "      <td>1.000000</td>\n",
       "      <td>150.000000</td>\n",
       "    </tr>\n",
       "    <tr>\n",
       "      <th>max</th>\n",
       "      <td>319670.000000</td>\n",
       "      <td>9.000000</td>\n",
       "      <td>1700.000000</td>\n",
       "    </tr>\n",
       "  </tbody>\n",
       "</table>\n",
       "</div>"
      ],
      "text/plain": [
       "            Order ID  Quantity Ordered     Price Each\n",
       "count  185686.000000     185686.000000  185686.000000\n",
       "mean   230411.376227          1.124544     184.519255\n",
       "std     51511.717183          0.443069     332.843838\n",
       "min    141234.000000          1.000000       2.990000\n",
       "25%    185833.250000          1.000000      11.950000\n",
       "50%    230354.500000          1.000000      14.950000\n",
       "75%    275028.750000          1.000000     150.000000\n",
       "max    319670.000000          9.000000    1700.000000"
      ]
     },
     "execution_count": 27,
     "metadata": {},
     "output_type": "execute_result"
    }
   ],
   "source": [
    "# get descriptive statistic of numerical columns\n",
    "df.describe()"
   ]
  },
  {
   "cell_type": "code",
   "execution_count": 28,
   "metadata": {},
   "outputs": [
    {
     "data": {
      "text/html": [
       "<div>\n",
       "<style scoped>\n",
       "    .dataframe tbody tr th:only-of-type {\n",
       "        vertical-align: middle;\n",
       "    }\n",
       "\n",
       "    .dataframe tbody tr th {\n",
       "        vertical-align: top;\n",
       "    }\n",
       "\n",
       "    .dataframe thead th {\n",
       "        text-align: right;\n",
       "    }\n",
       "</style>\n",
       "<table border=\"1\" class=\"dataframe\">\n",
       "  <thead>\n",
       "    <tr style=\"text-align: right;\">\n",
       "      <th></th>\n",
       "      <th>Product</th>\n",
       "      <th>Order Date</th>\n",
       "      <th>Purchase Address</th>\n",
       "    </tr>\n",
       "  </thead>\n",
       "  <tbody>\n",
       "    <tr>\n",
       "      <th>count</th>\n",
       "      <td>185686</td>\n",
       "      <td>185686</td>\n",
       "      <td>185686</td>\n",
       "    </tr>\n",
       "    <tr>\n",
       "      <th>unique</th>\n",
       "      <td>19</td>\n",
       "      <td>142395</td>\n",
       "      <td>140787</td>\n",
       "    </tr>\n",
       "    <tr>\n",
       "      <th>top</th>\n",
       "      <td>USB-C Charging Cable</td>\n",
       "      <td>12/15/19 20:16</td>\n",
       "      <td>193 Forest St, San Francisco, CA 94016</td>\n",
       "    </tr>\n",
       "    <tr>\n",
       "      <th>freq</th>\n",
       "      <td>21859</td>\n",
       "      <td>8</td>\n",
       "      <td>9</td>\n",
       "    </tr>\n",
       "  </tbody>\n",
       "</table>\n",
       "</div>"
      ],
      "text/plain": [
       "                     Product      Order Date  \\\n",
       "count                 185686          185686   \n",
       "unique                    19          142395   \n",
       "top     USB-C Charging Cable  12/15/19 20:16   \n",
       "freq                   21859               8   \n",
       "\n",
       "                              Purchase Address  \n",
       "count                                   185686  \n",
       "unique                                  140787  \n",
       "top     193 Forest St, San Francisco, CA 94016  \n",
       "freq                                         9  "
      ]
     },
     "execution_count": 28,
     "metadata": {},
     "output_type": "execute_result"
    }
   ],
   "source": [
    "# get descriptive statistic of categorical columns\n",
    "df.describe(include=['O'])"
   ]
  },
  {
   "cell_type": "markdown",
   "metadata": {},
   "source": [
    "### Task 5. Get Month from 'Order Date'"
   ]
  },
  {
   "cell_type": "code",
   "execution_count": 29,
   "metadata": {},
   "outputs": [
    {
     "data": {
      "text/html": [
       "<div>\n",
       "<style scoped>\n",
       "    .dataframe tbody tr th:only-of-type {\n",
       "        vertical-align: middle;\n",
       "    }\n",
       "\n",
       "    .dataframe tbody tr th {\n",
       "        vertical-align: top;\n",
       "    }\n",
       "\n",
       "    .dataframe thead th {\n",
       "        text-align: right;\n",
       "    }\n",
       "</style>\n",
       "<table border=\"1\" class=\"dataframe\">\n",
       "  <thead>\n",
       "    <tr style=\"text-align: right;\">\n",
       "      <th></th>\n",
       "      <th>Order ID</th>\n",
       "      <th>Product</th>\n",
       "      <th>Quantity Ordered</th>\n",
       "      <th>Price Each</th>\n",
       "      <th>Order Date</th>\n",
       "      <th>Purchase Address</th>\n",
       "      <th>Order Month</th>\n",
       "    </tr>\n",
       "  </thead>\n",
       "  <tbody>\n",
       "    <tr>\n",
       "      <th>0</th>\n",
       "      <td>176558</td>\n",
       "      <td>USB-C Charging Cable</td>\n",
       "      <td>2</td>\n",
       "      <td>11.95</td>\n",
       "      <td>04/19/19 08:46</td>\n",
       "      <td>917 1st St, Dallas, TX 75001</td>\n",
       "      <td>4</td>\n",
       "    </tr>\n",
       "    <tr>\n",
       "      <th>2</th>\n",
       "      <td>176559</td>\n",
       "      <td>Bose SoundSport Headphones</td>\n",
       "      <td>1</td>\n",
       "      <td>99.99</td>\n",
       "      <td>04/07/19 22:30</td>\n",
       "      <td>682 Chestnut St, Boston, MA 02215</td>\n",
       "      <td>4</td>\n",
       "    </tr>\n",
       "    <tr>\n",
       "      <th>3</th>\n",
       "      <td>176560</td>\n",
       "      <td>Google Phone</td>\n",
       "      <td>1</td>\n",
       "      <td>600.00</td>\n",
       "      <td>04/12/19 14:38</td>\n",
       "      <td>669 Spruce St, Los Angeles, CA 90001</td>\n",
       "      <td>4</td>\n",
       "    </tr>\n",
       "    <tr>\n",
       "      <th>4</th>\n",
       "      <td>176560</td>\n",
       "      <td>Wired Headphones</td>\n",
       "      <td>1</td>\n",
       "      <td>11.99</td>\n",
       "      <td>04/12/19 14:38</td>\n",
       "      <td>669 Spruce St, Los Angeles, CA 90001</td>\n",
       "      <td>4</td>\n",
       "    </tr>\n",
       "    <tr>\n",
       "      <th>5</th>\n",
       "      <td>176561</td>\n",
       "      <td>Wired Headphones</td>\n",
       "      <td>1</td>\n",
       "      <td>11.99</td>\n",
       "      <td>04/30/19 09:27</td>\n",
       "      <td>333 8th St, Los Angeles, CA 90001</td>\n",
       "      <td>4</td>\n",
       "    </tr>\n",
       "  </tbody>\n",
       "</table>\n",
       "</div>"
      ],
      "text/plain": [
       "   Order ID                     Product  Quantity Ordered  Price Each  \\\n",
       "0    176558        USB-C Charging Cable                 2       11.95   \n",
       "2    176559  Bose SoundSport Headphones                 1       99.99   \n",
       "3    176560                Google Phone                 1      600.00   \n",
       "4    176560            Wired Headphones                 1       11.99   \n",
       "5    176561            Wired Headphones                 1       11.99   \n",
       "\n",
       "       Order Date                      Purchase Address  Order Month  \n",
       "0  04/19/19 08:46          917 1st St, Dallas, TX 75001            4  \n",
       "2  04/07/19 22:30     682 Chestnut St, Boston, MA 02215            4  \n",
       "3  04/12/19 14:38  669 Spruce St, Los Angeles, CA 90001            4  \n",
       "4  04/12/19 14:38  669 Spruce St, Los Angeles, CA 90001            4  \n",
       "5  04/30/19 09:27     333 8th St, Los Angeles, CA 90001            4  "
      ]
     },
     "execution_count": 29,
     "metadata": {},
     "output_type": "execute_result"
    }
   ],
   "source": [
    "# create new column 'Order Month'\n",
    "df['Order Month'] = df['Order Date'].str[0:2]\n",
    "df['Order Month'] = pd.to_numeric(df['Order Month'])\n",
    "df.head()"
   ]
  },
  {
   "cell_type": "markdown",
   "metadata": {},
   "source": [
    "### Task 6. Get City & State from 'Purchase Address'"
   ]
  },
  {
   "cell_type": "code",
   "execution_count": 30,
   "metadata": {},
   "outputs": [],
   "source": [
    "def get_city(addr):\n",
    "    return addr.split(',')[1].strip()\n",
    "\n",
    "def get_state(addr):\n",
    "    return addr.split(',')[2].split(' ')[1]"
   ]
  },
  {
   "cell_type": "code",
   "execution_count": 31,
   "metadata": {},
   "outputs": [
    {
     "data": {
      "text/html": [
       "<div>\n",
       "<style scoped>\n",
       "    .dataframe tbody tr th:only-of-type {\n",
       "        vertical-align: middle;\n",
       "    }\n",
       "\n",
       "    .dataframe tbody tr th {\n",
       "        vertical-align: top;\n",
       "    }\n",
       "\n",
       "    .dataframe thead th {\n",
       "        text-align: right;\n",
       "    }\n",
       "</style>\n",
       "<table border=\"1\" class=\"dataframe\">\n",
       "  <thead>\n",
       "    <tr style=\"text-align: right;\">\n",
       "      <th></th>\n",
       "      <th>Order ID</th>\n",
       "      <th>Product</th>\n",
       "      <th>Quantity Ordered</th>\n",
       "      <th>Price Each</th>\n",
       "      <th>Order Date</th>\n",
       "      <th>Purchase Address</th>\n",
       "      <th>Order Month</th>\n",
       "      <th>City</th>\n",
       "    </tr>\n",
       "  </thead>\n",
       "  <tbody>\n",
       "    <tr>\n",
       "      <th>0</th>\n",
       "      <td>176558</td>\n",
       "      <td>USB-C Charging Cable</td>\n",
       "      <td>2</td>\n",
       "      <td>11.95</td>\n",
       "      <td>04/19/19 08:46</td>\n",
       "      <td>917 1st St, Dallas, TX 75001</td>\n",
       "      <td>4</td>\n",
       "      <td>Dallas (TX)</td>\n",
       "    </tr>\n",
       "    <tr>\n",
       "      <th>2</th>\n",
       "      <td>176559</td>\n",
       "      <td>Bose SoundSport Headphones</td>\n",
       "      <td>1</td>\n",
       "      <td>99.99</td>\n",
       "      <td>04/07/19 22:30</td>\n",
       "      <td>682 Chestnut St, Boston, MA 02215</td>\n",
       "      <td>4</td>\n",
       "      <td>Boston (MA)</td>\n",
       "    </tr>\n",
       "    <tr>\n",
       "      <th>3</th>\n",
       "      <td>176560</td>\n",
       "      <td>Google Phone</td>\n",
       "      <td>1</td>\n",
       "      <td>600.00</td>\n",
       "      <td>04/12/19 14:38</td>\n",
       "      <td>669 Spruce St, Los Angeles, CA 90001</td>\n",
       "      <td>4</td>\n",
       "      <td>Los Angeles (CA)</td>\n",
       "    </tr>\n",
       "    <tr>\n",
       "      <th>4</th>\n",
       "      <td>176560</td>\n",
       "      <td>Wired Headphones</td>\n",
       "      <td>1</td>\n",
       "      <td>11.99</td>\n",
       "      <td>04/12/19 14:38</td>\n",
       "      <td>669 Spruce St, Los Angeles, CA 90001</td>\n",
       "      <td>4</td>\n",
       "      <td>Los Angeles (CA)</td>\n",
       "    </tr>\n",
       "    <tr>\n",
       "      <th>5</th>\n",
       "      <td>176561</td>\n",
       "      <td>Wired Headphones</td>\n",
       "      <td>1</td>\n",
       "      <td>11.99</td>\n",
       "      <td>04/30/19 09:27</td>\n",
       "      <td>333 8th St, Los Angeles, CA 90001</td>\n",
       "      <td>4</td>\n",
       "      <td>Los Angeles (CA)</td>\n",
       "    </tr>\n",
       "  </tbody>\n",
       "</table>\n",
       "</div>"
      ],
      "text/plain": [
       "   Order ID                     Product  Quantity Ordered  Price Each  \\\n",
       "0    176558        USB-C Charging Cable                 2       11.95   \n",
       "2    176559  Bose SoundSport Headphones                 1       99.99   \n",
       "3    176560                Google Phone                 1      600.00   \n",
       "4    176560            Wired Headphones                 1       11.99   \n",
       "5    176561            Wired Headphones                 1       11.99   \n",
       "\n",
       "       Order Date                      Purchase Address  Order Month  \\\n",
       "0  04/19/19 08:46          917 1st St, Dallas, TX 75001            4   \n",
       "2  04/07/19 22:30     682 Chestnut St, Boston, MA 02215            4   \n",
       "3  04/12/19 14:38  669 Spruce St, Los Angeles, CA 90001            4   \n",
       "4  04/12/19 14:38  669 Spruce St, Los Angeles, CA 90001            4   \n",
       "5  04/30/19 09:27     333 8th St, Los Angeles, CA 90001            4   \n",
       "\n",
       "               City  \n",
       "0       Dallas (TX)  \n",
       "2       Boston (MA)  \n",
       "3  Los Angeles (CA)  \n",
       "4  Los Angeles (CA)  \n",
       "5  Los Angeles (CA)  "
      ]
     },
     "execution_count": 31,
     "metadata": {},
     "output_type": "execute_result"
    }
   ],
   "source": [
    "df['City'] = df['Purchase Address'].apply(lambda addr: f\"{get_city(addr)} ({get_state(addr)})\")\n",
    "df.head()"
   ]
  },
  {
   "cell_type": "markdown",
   "metadata": {},
   "source": [
    "## 5. Exploratory Data Analysis\n",
    "Pada tahapan ini kita akan mengeksplor data yang telah kita siapkan. Fokus utama kita di sini adalah untuk menjawab 5 pertanyaan yang sudah disampaikan di awal. Setelah kita berhasil menjawab kelima pertanyaan tersebut, kita akan mengeksplorasi data ini untuk mencari insight yang mungkin dapat berguna nantinya."
   ]
  },
  {
   "cell_type": "code",
   "execution_count": 32,
   "metadata": {},
   "outputs": [
    {
     "data": {
      "text/html": [
       "<div>\n",
       "<style scoped>\n",
       "    .dataframe tbody tr th:only-of-type {\n",
       "        vertical-align: middle;\n",
       "    }\n",
       "\n",
       "    .dataframe tbody tr th {\n",
       "        vertical-align: top;\n",
       "    }\n",
       "\n",
       "    .dataframe thead th {\n",
       "        text-align: right;\n",
       "    }\n",
       "</style>\n",
       "<table border=\"1\" class=\"dataframe\">\n",
       "  <thead>\n",
       "    <tr style=\"text-align: right;\">\n",
       "      <th></th>\n",
       "      <th>Order ID</th>\n",
       "      <th>Product</th>\n",
       "      <th>Quantity Ordered</th>\n",
       "      <th>Price Each</th>\n",
       "      <th>Order Date</th>\n",
       "      <th>Purchase Address</th>\n",
       "      <th>Order Month</th>\n",
       "      <th>City</th>\n",
       "    </tr>\n",
       "  </thead>\n",
       "  <tbody>\n",
       "    <tr>\n",
       "      <th>0</th>\n",
       "      <td>176558</td>\n",
       "      <td>USB-C Charging Cable</td>\n",
       "      <td>2</td>\n",
       "      <td>11.95</td>\n",
       "      <td>04/19/19 08:46</td>\n",
       "      <td>917 1st St, Dallas, TX 75001</td>\n",
       "      <td>4</td>\n",
       "      <td>Dallas (TX)</td>\n",
       "    </tr>\n",
       "    <tr>\n",
       "      <th>2</th>\n",
       "      <td>176559</td>\n",
       "      <td>Bose SoundSport Headphones</td>\n",
       "      <td>1</td>\n",
       "      <td>99.99</td>\n",
       "      <td>04/07/19 22:30</td>\n",
       "      <td>682 Chestnut St, Boston, MA 02215</td>\n",
       "      <td>4</td>\n",
       "      <td>Boston (MA)</td>\n",
       "    </tr>\n",
       "    <tr>\n",
       "      <th>3</th>\n",
       "      <td>176560</td>\n",
       "      <td>Google Phone</td>\n",
       "      <td>1</td>\n",
       "      <td>600.00</td>\n",
       "      <td>04/12/19 14:38</td>\n",
       "      <td>669 Spruce St, Los Angeles, CA 90001</td>\n",
       "      <td>4</td>\n",
       "      <td>Los Angeles (CA)</td>\n",
       "    </tr>\n",
       "    <tr>\n",
       "      <th>4</th>\n",
       "      <td>176560</td>\n",
       "      <td>Wired Headphones</td>\n",
       "      <td>1</td>\n",
       "      <td>11.99</td>\n",
       "      <td>04/12/19 14:38</td>\n",
       "      <td>669 Spruce St, Los Angeles, CA 90001</td>\n",
       "      <td>4</td>\n",
       "      <td>Los Angeles (CA)</td>\n",
       "    </tr>\n",
       "    <tr>\n",
       "      <th>5</th>\n",
       "      <td>176561</td>\n",
       "      <td>Wired Headphones</td>\n",
       "      <td>1</td>\n",
       "      <td>11.99</td>\n",
       "      <td>04/30/19 09:27</td>\n",
       "      <td>333 8th St, Los Angeles, CA 90001</td>\n",
       "      <td>4</td>\n",
       "      <td>Los Angeles (CA)</td>\n",
       "    </tr>\n",
       "  </tbody>\n",
       "</table>\n",
       "</div>"
      ],
      "text/plain": [
       "   Order ID                     Product  Quantity Ordered  Price Each  \\\n",
       "0    176558        USB-C Charging Cable                 2       11.95   \n",
       "2    176559  Bose SoundSport Headphones                 1       99.99   \n",
       "3    176560                Google Phone                 1      600.00   \n",
       "4    176560            Wired Headphones                 1       11.99   \n",
       "5    176561            Wired Headphones                 1       11.99   \n",
       "\n",
       "       Order Date                      Purchase Address  Order Month  \\\n",
       "0  04/19/19 08:46          917 1st St, Dallas, TX 75001            4   \n",
       "2  04/07/19 22:30     682 Chestnut St, Boston, MA 02215            4   \n",
       "3  04/12/19 14:38  669 Spruce St, Los Angeles, CA 90001            4   \n",
       "4  04/12/19 14:38  669 Spruce St, Los Angeles, CA 90001            4   \n",
       "5  04/30/19 09:27     333 8th St, Los Angeles, CA 90001            4   \n",
       "\n",
       "               City  \n",
       "0       Dallas (TX)  \n",
       "2       Boston (MA)  \n",
       "3  Los Angeles (CA)  \n",
       "4  Los Angeles (CA)  \n",
       "5  Los Angeles (CA)  "
      ]
     },
     "execution_count": 32,
     "metadata": {},
     "output_type": "execute_result"
    }
   ],
   "source": [
    "df.head()"
   ]
  },
  {
   "cell_type": "markdown",
   "metadata": {},
   "source": [
    "### Q1. What was the best month for sales? How much was earned that month?"
   ]
  },
  {
   "cell_type": "markdown",
   "metadata": {},
   "source": [
    "#### Task 1. Create Sales Column"
   ]
  },
  {
   "cell_type": "code",
   "execution_count": 40,
   "metadata": {},
   "outputs": [
    {
     "data": {
      "text/html": [
       "<div>\n",
       "<style scoped>\n",
       "    .dataframe tbody tr th:only-of-type {\n",
       "        vertical-align: middle;\n",
       "    }\n",
       "\n",
       "    .dataframe tbody tr th {\n",
       "        vertical-align: top;\n",
       "    }\n",
       "\n",
       "    .dataframe thead th {\n",
       "        text-align: right;\n",
       "    }\n",
       "</style>\n",
       "<table border=\"1\" class=\"dataframe\">\n",
       "  <thead>\n",
       "    <tr style=\"text-align: right;\">\n",
       "      <th></th>\n",
       "      <th>Order ID</th>\n",
       "      <th>Product</th>\n",
       "      <th>Quantity Ordered</th>\n",
       "      <th>Price Each</th>\n",
       "      <th>Order Date</th>\n",
       "      <th>Purchase Address</th>\n",
       "      <th>Order Month</th>\n",
       "      <th>City</th>\n",
       "      <th>Sales</th>\n",
       "    </tr>\n",
       "  </thead>\n",
       "  <tbody>\n",
       "    <tr>\n",
       "      <th>0</th>\n",
       "      <td>176558</td>\n",
       "      <td>USB-C Charging Cable</td>\n",
       "      <td>2</td>\n",
       "      <td>11.95</td>\n",
       "      <td>04/19/19 08:46</td>\n",
       "      <td>917 1st St, Dallas, TX 75001</td>\n",
       "      <td>4</td>\n",
       "      <td>Dallas (TX)</td>\n",
       "      <td>23.90</td>\n",
       "    </tr>\n",
       "    <tr>\n",
       "      <th>2</th>\n",
       "      <td>176559</td>\n",
       "      <td>Bose SoundSport Headphones</td>\n",
       "      <td>1</td>\n",
       "      <td>99.99</td>\n",
       "      <td>04/07/19 22:30</td>\n",
       "      <td>682 Chestnut St, Boston, MA 02215</td>\n",
       "      <td>4</td>\n",
       "      <td>Boston (MA)</td>\n",
       "      <td>99.99</td>\n",
       "    </tr>\n",
       "    <tr>\n",
       "      <th>3</th>\n",
       "      <td>176560</td>\n",
       "      <td>Google Phone</td>\n",
       "      <td>1</td>\n",
       "      <td>600.00</td>\n",
       "      <td>04/12/19 14:38</td>\n",
       "      <td>669 Spruce St, Los Angeles, CA 90001</td>\n",
       "      <td>4</td>\n",
       "      <td>Los Angeles (CA)</td>\n",
       "      <td>600.00</td>\n",
       "    </tr>\n",
       "    <tr>\n",
       "      <th>4</th>\n",
       "      <td>176560</td>\n",
       "      <td>Wired Headphones</td>\n",
       "      <td>1</td>\n",
       "      <td>11.99</td>\n",
       "      <td>04/12/19 14:38</td>\n",
       "      <td>669 Spruce St, Los Angeles, CA 90001</td>\n",
       "      <td>4</td>\n",
       "      <td>Los Angeles (CA)</td>\n",
       "      <td>11.99</td>\n",
       "    </tr>\n",
       "    <tr>\n",
       "      <th>5</th>\n",
       "      <td>176561</td>\n",
       "      <td>Wired Headphones</td>\n",
       "      <td>1</td>\n",
       "      <td>11.99</td>\n",
       "      <td>04/30/19 09:27</td>\n",
       "      <td>333 8th St, Los Angeles, CA 90001</td>\n",
       "      <td>4</td>\n",
       "      <td>Los Angeles (CA)</td>\n",
       "      <td>11.99</td>\n",
       "    </tr>\n",
       "  </tbody>\n",
       "</table>\n",
       "</div>"
      ],
      "text/plain": [
       "   Order ID                     Product  Quantity Ordered  Price Each  \\\n",
       "0    176558        USB-C Charging Cable                 2       11.95   \n",
       "2    176559  Bose SoundSport Headphones                 1       99.99   \n",
       "3    176560                Google Phone                 1      600.00   \n",
       "4    176560            Wired Headphones                 1       11.99   \n",
       "5    176561            Wired Headphones                 1       11.99   \n",
       "\n",
       "       Order Date                      Purchase Address  Order Month  \\\n",
       "0  04/19/19 08:46          917 1st St, Dallas, TX 75001            4   \n",
       "2  04/07/19 22:30     682 Chestnut St, Boston, MA 02215            4   \n",
       "3  04/12/19 14:38  669 Spruce St, Los Angeles, CA 90001            4   \n",
       "4  04/12/19 14:38  669 Spruce St, Los Angeles, CA 90001            4   \n",
       "5  04/30/19 09:27     333 8th St, Los Angeles, CA 90001            4   \n",
       "\n",
       "               City   Sales  \n",
       "0       Dallas (TX)   23.90  \n",
       "2       Boston (MA)   99.99  \n",
       "3  Los Angeles (CA)  600.00  \n",
       "4  Los Angeles (CA)   11.99  \n",
       "5  Los Angeles (CA)   11.99  "
      ]
     },
     "execution_count": 40,
     "metadata": {},
     "output_type": "execute_result"
    }
   ],
   "source": [
    "df['Sales'] = df['Quantity Ordered'] * df['Price Each']\n",
    "df.head()"
   ]
  },
  {
   "cell_type": "markdown",
   "metadata": {},
   "source": [
    "#### Task 2. Get sales for each months"
   ]
  },
  {
   "cell_type": "code",
   "execution_count": 106,
   "metadata": {},
   "outputs": [
    {
     "data": {
      "image/png": "[encoded data removed]",
      "text/plain": [
       "<Figure size 432x288 with 1 Axes>"
      ]
     },
     "metadata": {},
     "output_type": "display_data"
    }
   ],
   "source": [
    "months = list(range(1,13))\n",
    "\n",
    "# setup the bar chart\n",
    "plt.bar(months, df.groupby(['Order Month'])['Sales'].sum())\n",
    "\n",
    "# set bar chart appearance\n",
    "plt.title(\"Sales per Month\")\n",
    "plt.xlabel(\"Month\")\n",
    "plt.ylabel(\"Sales in USD ($)\")\n",
    "plt.show()"
   ]
  },
  {
   "cell_type": "code",
   "execution_count": 100,
   "metadata": {},
   "outputs": [
    {
     "name": "stdout",
     "output_type": "stream",
     "text": [
      "Sales on December: 4608295.700001529\n"
     ]
    }
   ],
   "source": [
    "# Get sales on December\n",
    "print(\"Sales on December:\", df.groupby(['Order Month'])['Sales'].sum().iloc[11])"
   ]
  },
  {
   "cell_type": "markdown",
   "metadata": {},
   "source": [
    "### Conclusions for Q1\n",
    "\n",
    "#### What was the best month for sales?\n",
    "The best month for sales in 2019 was **December**\n",
    "\n",
    "#### How much was earned that month?\n",
    "Sales in December was **$4,608,295.70**"
   ]
  },
  {
   "cell_type": "markdown",
   "metadata": {},
   "source": [
    "### Q2. What city sold the most product?"
   ]
  },
  {
   "cell_type": "code",
   "execution_count": 105,
   "metadata": {},
   "outputs": [
    {
     "data": {
      "image/png": "[encoded data removed]",
      "text/plain": [
       "<Figure size 432x288 with 1 Axes>"
      ]
     },
     "metadata": {},
     "output_type": "display_data"
    }
   ],
   "source": [
    "# get all cities in ordered\n",
    "cities = [city for city, df in df.groupby(['City'])]\n",
    "\n",
    "# setup the bar chart\n",
    "plt.bar(cities, df.groupby(['City'])['Sales'].sum())\n",
    "\n",
    "# set bar chart appearance\n",
    "plt.title(\"Sales per City\")\n",
    "plt.xlabel(\"City\")\n",
    "plt.ylabel(\"Sales in USD ($)\")\n",
    "plt.xticks(cities, rotation='vertical')\n",
    "plt.show()"
   ]
  },
  {
   "cell_type": "markdown",
   "metadata": {},
   "source": [
    "### Conclusions for Q2\n",
    "\n",
    "#### What city sold the most product?\n",
    "The city sold the most products was San Fransisco in California."
   ]
  },
  {
   "cell_type": "markdown",
   "metadata": {},
   "source": []
  },
  {
   "cell_type": "code",
   "execution_count": null,
   "metadata": {},
   "outputs": [],
   "source": []
  },
  {
   "cell_type": "code",
   "execution_count": null,
   "metadata": {},
   "outputs": [],
   "source": []
  },
  {
   "cell_type": "code",
   "execution_count": null,
   "metadata": {},
   "outputs": [],
   "source": []
  },
  {
   "cell_type": "code",
   "execution_count": null,
   "metadata": {},
   "outputs": [],
   "source": []
  },
  {
   "cell_type": "code",
   "execution_count": 50,
   "metadata": {},
   "outputs": [
    {
     "data": {
      "image/png": "[encoded data removed]",
      "text/plain": [
       "<Figure size 432x288 with 1 Axes>"
      ]
     },
     "metadata": {
      "needs_background": "light"
     },
     "output_type": "display_data"
    }
   ],
   "source": [
    "# EXTRA: Menampilkan line plot untuk mengetahui perkembangannya setiap bulan\n",
    "plt.clf()\n",
    "plt.plot(months, df.groupby(['Month']).sum()['Sales'])\n",
    "plt.xticks(months)\n",
    "plt.grid()\n",
    "plt.show()"
   ]
  }
 ],
 "metadata": {
  "kernelspec": {
   "display_name": "Python 3",
   "language": "python",
   "name": "python3"
  },
  "language_info": {
   "codemirror_mode": {
    "name": "ipython",
    "version": 3
   },
   "file_extension": ".py",
   "mimetype": "text/x-python",
   "name": "python",
   "nbconvert_exporter": "python",
   "pygments_lexer": "ipython3",
   "version": "3.7.4"
  }
 },
 "nbformat": 4,
 "nbformat_minor": 4
}
